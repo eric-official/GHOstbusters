{
 "cells": [
  {
   "cell_type": "code",
   "execution_count": 1,
   "metadata": {
    "collapsed": true,
    "ExecuteTime": {
     "start_time": "2023-05-13T18:20:31.248694Z",
     "end_time": "2023-05-13T18:20:34.041694Z"
    }
   },
   "outputs": [
    {
     "name": "stdout",
     "output_type": "stream",
     "text": [
      "Reserves Data: [('0xE205181Eb3D7415f15377F79aA7769F846cE56DD', 'AAVE', 'AAVE', 18, 5000, 6500, 11000, 0, True, False, False, True, False, 1000000000000000000000000000, 1000000000000000000000000000, 0, 0, 90000000000000000000000000, 1683984480, '0xAC4D92980562Ac11Af46C6C7CEdD7C819C2028D0', '0x1721dDa383B02ec058Ee7B47596F61246eAD0069', '0xCB62E1d181179d1D86D3877e221D1EdE0bDD8841', '0x13Bdaf61b68b917114D4A356c2098D703D4C4aB7', 2380107695761425690824975, 0, 0, 0, 0, 30000000000, '0xFAa450873a4b162D32f545a85e678C13Ca8d4Ae9', 70000000000000000000000000, 3000000000000000000000000000, 0, 0, 90000000000000000000000000, 0, 450000000000000000000000000, False, False, 0, 0, 0, True, 0, 2, 0, 0, 0, 0, 0, 0, '0x0000000000000000000000000000000000000000', '', False), ('0xD77b79BE3e85351fF0cbe78f1B58cf8d1064047C', 'DAI', 'DAI', 18, 7500, 8000, 10500, 1000, True, True, True, True, False, 1000241252314635863066636284, 1001494533949369579862651760, 901268939241428697697776, 5743095913579504993593753, 62871547956789752496796876, 1683984312, '0x7402b9625D1712426807952b798e3180dC38876F', '0x00b5314dcDA79F235a9EDE5dA53e63A9747c3f22', '0x76f5D888234e88599c12D46A2a55Fece923cf48c', '0x4218E9D70F2fc2C44745E33DbfA7f7E90b19C783', 202166854932078764711660346, 1362324119874240183444639, 63021992769645814304489961, 1683836316, 24834789512305971407903866, 100000000, '0x3D9069811D8ABFaFBf16Fa07FC875E39D4dd29DA', 40000000000000000000000000, 750000000000000000000000000, 20000000000000000000000000, 750000000000000000000000000, 60000000000000000000000000, 0, 800000000000000000000000000, False, False, 5058275588625412914457, 0, 0, True, 0, 2, 1, 0, 0, 9800, 9850, 10100, '0x0000000000000000000000000000000000000000', 'Stable-EMode', True), ('0x69305b943C6F55743b2Ece5c0b20507300a39FC3', 'USDC', 'USDC', 6, 8000, 8500, 10500, 1000, True, True, True, True, False, 1001020518727726012461981092, 1003115095165449503145783825, 7043389322955312109277193, 18336115729176600903694326, 69168057864588300451847162, 1683992592, '0xdC916609281306558E0e8245bFBf90EFd3eCAb96', '0x8117853a7Ecf500b27f5e5901c326B3840E58784', '0x908636F60d276a3b30C13F300065E1Cf43bf49cf', '0xD740CB1d7c48795E32AcbA5c6A6b6E9ACBdD33F0', 117783583735963, 1170824029709, 63051538660340103278508018, 1683837252, 81296045029063, 100000000, '0xb56b714beF6892Bb4b1C342557bb6a1dD3Cb8cb7', 40000000000000000000000000, 600000000000000000000000000, 20000000000000000000000000, 600000000000000000000000000, 60000000000000000000000000, 0, 900000000000000000000000000, False, False, 18911584378, 0, 0, True, 0, 2, 1, 0, 0, 9800, 9850, 10100, '0x0000000000000000000000000000000000000000', 'Stable-EMode', True), ('0x84ced17d95F3EC7230bAf4a369F1e624Ae60090d', 'WETH', 'WETH', 18, 8000, 8250, 10500, 1000, True, False, False, True, False, 1075349121872785037253202513, 1123356193413674875600362396, 0, 0, 0, 1683994584, '0x49871B521E44cb4a34b2bF2cbCF03C1CF895C48b', '0xCEa68d3acD31b0d9d5E52f15Ce2662592C24aFc9', '0x86065184932b2e2E7bC2BC953Cd3d131d2497cDe', '0xb7a2685Fc117581309cA58dE166BEc2Df6b17a49', 13646081939620661854205, 3061537922176257825547, 91101982448643351336702048, 1680033096, 10664554429721023257862, 400000000000, '0xD54126c116372F2D524eCfc8831E936C999a894B', 0, 0, 0, 0, 0, 0, 0, False, False, 128143145815381536649, 0, 0, True, 0, 2, 0, 0, 0, 0, 0, 0, '0x0000000000000000000000000000000000000000', '', False), ('0x2166903C38B4883B855eA2C77A02430a27Cdfede', 'LINK', 'LINK', 18, 7000, 7500, 11000, 2000, True, True, True, True, False, 1000075812144536972764213447, 1001620770245835852319443417, 119541267647598296705633, 4040360609005931356081649, 90000000000000000000000000, 1683984624, '0x601c61Fc4eEe64a4b1f5201125b788dc1585746b', '0x98413Db84158e6f4dEaa0F4d098240a7FdfA7060', '0x91eFc3Ff5fBD2f9b2aE8880Bb1d52Db3e01A261d', '0x13Bdaf61b68b917114D4A356c2098D703D4C4aB7', 69041938460365192831443124, 36665898608692666859938, 90000000000000000000000000, 1683837612, 1801496942684759102947241, 3000000000, '0x1445d6061cd1Bf04b8301292f25E1D7d027CdE04', 70000000000000000000000000, 3000000000000000000000000000, 0, 0, 90000000000000000000000000, 0, 450000000000000000000000000, False, False, 558823362512235743035, 0, 0, True, 0, 2, 0, 0, 0, 0, 0, 0, '0x0000000000000000000000000000000000000000', '', False), ('0xcbE9771eD31e761b744D3cB9eF78A1f32DD99211', 'Gho Token', 'GHO', 18, 0, 0, 0, 0, False, True, False, True, False, 1000222113637208788124666082, 1005895828358659830359103207, 0, 20000000000000000000000000, 0, 1683994404, '0xdC25729a09241d24c4228f1a0C27137770cF363e', '0xEe27a567B18ef957dd2BFBE027F09Ea3ecC35722', '0x80aa933EfF12213022Fd3d17c2c59C066cBb91c7', '0xa0b2a67C9AE5f52201DA9cBe03866D3f5cd725AF', 55885874497226612715360, 0, 0, 0, 1315988387360905965186126350, 100000000, '0xDD714B0A68b9c81C6878688c5dc6238f8AC8eadD', 0, 0, 0, 0, 0, 0, 0, False, False, 0, 0, 0, False, 0, 2, 1, 0, 0, 9800, 9850, 10100, '0x0000000000000000000000000000000000000000', 'Stable-EMode', False)]\n",
      "Base Currency Info: (100000000, 100000000, 400000000000, 8)\n",
      "User Reserves Data: [('0xE205181Eb3D7415f15377F79aA7769F846cE56DD', 0, False, 0, 0, 0, 0), ('0xD77b79BE3e85351fF0cbe78f1B58cf8d1064047C', 0, False, 0, 0, 0, 0), ('0x69305b943C6F55743b2Ece5c0b20507300a39FC3', 0, False, 0, 0, 0, 0), ('0x84ced17d95F3EC7230bAf4a369F1e624Ae60090d', 9936435305444310190, True, 0, 0, 0, 0), ('0x2166903C38B4883B855eA2C77A02430a27Cdfede', 0, False, 0, 0, 0, 0), ('0xcbE9771eD31e761b744D3cB9eF78A1f32DD99211', 0, False, 0, 33742496470267352606293, 0, 0)]\n",
      "User Borrowing Power: 0\n",
      "Reserves List:\n",
      "0xE205181Eb3D7415f15377F79aA7769F846cE56DD\n",
      "0xD77b79BE3e85351fF0cbe78f1B58cf8d1064047C\n",
      "0x69305b943C6F55743b2Ece5c0b20507300a39FC3\n",
      "0x84ced17d95F3EC7230bAf4a369F1e624Ae60090d\n",
      "0x2166903C38B4883B855eA2C77A02430a27Cdfede\n",
      "0xcbE9771eD31e761b744D3cB9eF78A1f32DD99211\n"
     ]
    }
   ],
   "source": [
    "from web3 import Web3\n",
    "from web3.middleware import geth_poa_middleware\n",
    "import json\n",
    "\n",
    "# IUiPoolDataProviderV3 contract address\n",
    "DATA_PROVIDER_CONTRACT_ADDRESS = \"0x3De59b6901e7Ad0A19621D49C5b52cC9a4977e52\"\n",
    "\n",
    "# IPoolAddressesProvider contract address\n",
    "POOL_ADDRESSES_PROVIDER_CONTRACT_ADDRESS = \"0x4dd5ab8Fb385F2e12aDe435ba7AFA812F1d364D0\"\n",
    "\n",
    "# User address for fetching user reserves data\n",
    "USER_ADDRESS = \"0x9A560C3ceBB3a8c0f28Efcc43f4D12e942F4eeD7\"\n",
    "\n",
    "# ABI files for IUiPoolDataProviderV3 and IPoolAddressesProvider contracts\n",
    "# You can get the ABI files from Etherscan or compile the contracts using solc\n",
    "with open(\"IUiPoolDataProviderV3_ABI.json\") as f:\n",
    "    DATA_PROVIDER_ABI = json.load(f)\n",
    "with open(\"IPoolAddressesProvider_ABI.json\") as f:\n",
    "    POOL_ADDRESSES_PROVIDER_ABI = json.load(f)\n",
    "\n",
    "w3 = Web3(Web3.HTTPProvider('https://goerli.infura.io/v3/6f900384657d4152b0627543450ce5e7'))\n",
    "w3.middleware_onion.inject(geth_poa_middleware, layer=0)\n",
    "\n",
    "data_provider_contract = w3.eth.contract(\n",
    "    address=DATA_PROVIDER_CONTRACT_ADDRESS,\n",
    "    abi=DATA_PROVIDER_ABI\n",
    ")\n",
    "\n",
    "pool_addresses_provider_contract = w3.eth.contract(\n",
    "    address=POOL_ADDRESSES_PROVIDER_CONTRACT_ADDRESS,\n",
    "    abi=POOL_ADDRESSES_PROVIDER_ABI\n",
    ")\n",
    "\n",
    "# 1. Fetch GHO's reserve data\n",
    "def get_reserves_data():\n",
    "    reserves_data, base_currency_info = data_provider_contract.functions.getReservesData(\n",
    "        pool_addresses_provider_contract.address).call()\n",
    "    return reserves_data, base_currency_info\n",
    "\n",
    "# 2. Fetch GHO's user reserve data\n",
    "def get_user_reserves_data(user_address):\n",
    "    user_reserves_data, user_borrowing_power = data_provider_contract.functions.getUserReservesData(\n",
    "        pool_addresses_provider_contract.address, user_address).call()\n",
    "    return user_reserves_data, user_borrowing_power\n",
    "\n",
    "def get_reserves_list():\n",
    "    reserves_list = data_provider_contract.functions.getReservesList(\n",
    "        pool_addresses_provider_contract.address).call()\n",
    "    return reserves_list\n",
    "\n",
    "reserves_data, base_currency_info = get_reserves_data()\n",
    "print(\"Reserves Data:\", reserves_data)\n",
    "print(\"Base Currency Info:\", base_currency_info)\n",
    "\n",
    "user_reserves_data, user_borrowing_power = get_user_reserves_data(USER_ADDRESS)\n",
    "print(\"User Reserves Data:\", user_reserves_data)\n",
    "print(\"User Borrowing Power:\", user_borrowing_power)\n",
    "\n",
    "reserves_list = get_reserves_list()\n",
    "print(\"Reserves List:\")\n",
    "for reserve in reserves_list:\n",
    "    print(reserve)"
   ]
  },
  {
   "cell_type": "code",
   "execution_count": 2,
   "outputs": [
    {
     "name": "stdout",
     "output_type": "stream",
     "text": [
      "Borrowers:\n"
     ]
    },
    {
     "data": {
      "text/plain": "'\\nborrow_events = lending_pool_contract.events.Borrow().getLogs(fromBlock=8000000)\\nprint(borrow_events)\\n\\ndef get_past_borrow_events(from_block, to_block):\\n    borrow_event_signature = w3.sha3(text=\\'Borrow(address,address,address,uint256,uint256,uint256)\\').hex()\\n    borrow_event_filter = w3.eth.filter({\\n        \"fromBlock\": from_block,\\n        \"toBlock\": to_block,\\n        \"address\": LENDING_POOL_CONTRACT_ADDRESS,\\n        \"topics\": [borrow_event_signature]\\n    })\\n    borrow_events_raw = borrow_event_filter.get_all_entries()\\n    borrow_events = [lending_pool_contract.events.Borrow().processLog(event) for event in borrow_events_raw]\\n    return borrow_events\\n\\n# You may need to adjust the range of blocks to scan, depending on the\\n# specific GHO market and your Ethereum node\\'s access to historical data.\\nfrom_block = 8000000  # Replace with the appropriate starting block number\\nto_block = w3.eth.get_block(\\'latest\\')\\n\\nborrow_events = get_past_borrow_events(from_block, to_block)\\nborrowers = set(event.args._user for event in borrow_events)\\n\\nprint(\"Borrowers:\")\\nfor borrower in borrowers:\\n    print(borrower)\\n'"
     },
     "execution_count": 2,
     "metadata": {},
     "output_type": "execute_result"
    }
   ],
   "source": [
    "LENDING_POOL_CONTRACT_ADDRESS = \"0xACf4be18be7D4eA90851f90A2816c2022bc5f9D0\"\n",
    "\n",
    "with open(\"BorrowLogic.json\") as f:\n",
    "    LENDING_POOL_ABI = json.load(f)\n",
    "\n",
    "lending_pool_contract = w3.eth.contract(\n",
    "    address=LENDING_POOL_CONTRACT_ADDRESS,\n",
    "    abi=LENDING_POOL_ABI\n",
    ")\n",
    "\n",
    "event_filter = lending_pool_contract.events.Borrow.create_filter(fromBlock=8990000)\n",
    "borrow_events = event_filter.get_all_entries()\n",
    "borrowers = set(event.args._user for event in borrow_events)\n",
    "\n",
    "print(\"Borrowers:\")\n",
    "for borrower in borrowers:\n",
    "    print(borrower)\n",
    "'''\n",
    "borrow_events = lending_pool_contract.events.Borrow().getLogs(fromBlock=8000000)\n",
    "print(borrow_events)\n",
    "\n",
    "def get_past_borrow_events(from_block, to_block):\n",
    "    borrow_event_signature = w3.sha3(text='Borrow(address,address,address,uint256,uint256,uint256)').hex()\n",
    "    borrow_event_filter = w3.eth.filter({\n",
    "        \"fromBlock\": from_block,\n",
    "        \"toBlock\": to_block,\n",
    "        \"address\": LENDING_POOL_CONTRACT_ADDRESS,\n",
    "        \"topics\": [borrow_event_signature]\n",
    "    })\n",
    "    borrow_events_raw = borrow_event_filter.get_all_entries()\n",
    "    borrow_events = [lending_pool_contract.events.Borrow().processLog(event) for event in borrow_events_raw]\n",
    "    return borrow_events\n",
    "\n",
    "# You may need to adjust the range of blocks to scan, depending on the\n",
    "# specific GHO market and your Ethereum node's access to historical data.\n",
    "from_block = 8000000  # Replace with the appropriate starting block number\n",
    "to_block = w3.eth.get_block('latest')\n",
    "\n",
    "borrow_events = get_past_borrow_events(from_block, to_block)\n",
    "borrowers = set(event.args._user for event in borrow_events)\n",
    "\n",
    "print(\"Borrowers:\")\n",
    "for borrower in borrowers:\n",
    "    print(borrower)\n",
    "'''"
   ],
   "metadata": {
    "collapsed": false,
    "ExecuteTime": {
     "start_time": "2023-05-13T18:38:04.989069Z",
     "end_time": "2023-05-13T18:38:05.882206Z"
    }
   }
  },
  {
   "cell_type": "code",
   "execution_count": 3,
   "outputs": [
    {
     "ename": "AttributeError",
     "evalue": "type object 'Borrow' has no attribute 'getLogs'",
     "output_type": "error",
     "traceback": [
      "\u001B[0;31m---------------------------------------------------------------------------\u001B[0m",
      "\u001B[0;31mAttributeError\u001B[0m                            Traceback (most recent call last)",
      "Cell \u001B[0;32mIn[3], line 35\u001B[0m\n\u001B[1;32m     32\u001B[0m to_block \u001B[38;5;241m=\u001B[39m \u001B[38;5;124m'\u001B[39m\u001B[38;5;124mlatest\u001B[39m\u001B[38;5;124m'\u001B[39m\n\u001B[1;32m     34\u001B[0m \u001B[38;5;66;03m# Get past Borrow events\u001B[39;00m\n\u001B[0;32m---> 35\u001B[0m past_borrow_events \u001B[38;5;241m=\u001B[39m \u001B[43mcontract\u001B[49m\u001B[38;5;241;43m.\u001B[39;49m\u001B[43mevents\u001B[49m\u001B[38;5;241;43m.\u001B[39;49m\u001B[43mBorrow\u001B[49m\u001B[38;5;241;43m.\u001B[39;49m\u001B[43mgetLogs\u001B[49m(fromBlock\u001B[38;5;241m=\u001B[39mfrom_block, toBlock\u001B[38;5;241m=\u001B[39mto_block, argument_filters\u001B[38;5;241m=\u001B[39m{\u001B[38;5;124m'\u001B[39m\u001B[38;5;124mreserve\u001B[39m\u001B[38;5;124m'\u001B[39m: gho_token_address})\n\u001B[1;32m     37\u001B[0m \u001B[38;5;66;03m# Print past Borrow events\u001B[39;00m\n\u001B[1;32m     38\u001B[0m \u001B[38;5;28;01mfor\u001B[39;00m event \u001B[38;5;129;01min\u001B[39;00m past_borrow_events:\n",
      "\u001B[0;31mAttributeError\u001B[0m: type object 'Borrow' has no attribute 'getLogs'"
     ]
    }
   ],
   "source": [
    "gho_token_address = \"0xcbE9771eD31e761b744D3cB9eF78A1f32DD99211\"\n",
    "borrowlogic_contract_address = \"0xACf4be18be7D4eA90851f90A2816c2022bc5f9D0\"\n",
    "\n",
    "# Set up contract ABI (only the \"Borrow\" event is needed)\n",
    "borrowlogic_contract_abi = [\n",
    "    {\n",
    "        \"anonymous\": False,\n",
    "        \"inputs\": [\n",
    "            {\"indexed\": True, \"internalType\": \"address\", \"name\": \"reserve\", \"type\": \"address\"},\n",
    "            {\"indexed\": False, \"internalType\": \"address\", \"name\": \"user\", \"type\": \"address\"},\n",
    "            {\"indexed\": True, \"internalType\": \"address\", \"name\": \"onBehalfOf\", \"type\": \"address\"},\n",
    "            {\"indexed\": False, \"internalType\": \"uint256\", \"name\": \"amount\", \"type\": \"uint256\"},\n",
    "            {\n",
    "                \"indexed\": False,\n",
    "                \"internalType\": \"uint256\",\n",
    "                \"name\": \"interestRateMode\",\n",
    "                \"type\": \"uint256\",\n",
    "            },\n",
    "            {\"indexed\": False, \"internalType\": \"uint256\", \"name\": \"borrowRate\", \"type\": \"uint256\"},\n",
    "            {\"indexed\": True, \"internalType\": \"uint16\", \"name\": \"referralCode\", \"type\": \"uint16\"},\n",
    "        ],\n",
    "        \"name\": \"Borrow\",\n",
    "        \"type\": \"event\",\n",
    "    }\n",
    "]\n",
    "\n",
    "# Create a contract object\n",
    "contract = w3.eth.contract(address=borrowlogic_contract_address, abi=borrowlogic_contract_abi)\n",
    "\n",
    "# Define the block range (use '0' and 'latest' to get all past events)\n",
    "from_block = 8000000\n",
    "to_block = 'latest'\n",
    "\n",
    "# Get past Borrow events\n",
    "past_borrow_events = contract.events.Borrow.getLogs(fromBlock=from_block, toBlock=to_block, argument_filters={'reserve': gho_token_address})\n",
    "\n",
    "# Print past Borrow events\n",
    "for event in past_borrow_events:\n",
    "    print(f\"Event: {event['event']}, User: {event['args']['user']}, On Behalf Of: {event['args']['onBehalfOf']}, Amount: {event['args']['amount']}, Interest Rate Mode: {event['args']['interestRateMode']}, Borrow Rate: {event['args']['borrowRate']}, Referral Code: {event['args']['referralCode']}\")\n"
   ],
   "metadata": {
    "collapsed": false
   }
  },
  {
   "cell_type": "code",
   "execution_count": null,
   "outputs": [],
   "source": [],
   "metadata": {
    "collapsed": false
   }
  }
 ],
 "metadata": {
  "kernelspec": {
   "display_name": "Python 3",
   "language": "python",
   "name": "python3"
  },
  "language_info": {
   "codemirror_mode": {
    "name": "ipython",
    "version": 2
   },
   "file_extension": ".py",
   "mimetype": "text/x-python",
   "name": "python",
   "nbconvert_exporter": "python",
   "pygments_lexer": "ipython2",
   "version": "2.7.6"
  }
 },
 "nbformat": 4,
 "nbformat_minor": 0
}
