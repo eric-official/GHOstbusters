{
 "cells": [
  {
   "cell_type": "code",
   "execution_count": 29,
   "outputs": [],
   "source": [
    "import pandas as pd\n",
    "import plotly.express as px\n",
    "from plotly.subplots import make_subplots\n",
    "from dash import Dash, html, dcc\n",
    "import dash_bootstrap_components as dbc\n",
    "from dash_bootstrap_templates import load_figure_template"
   ],
   "metadata": {
    "collapsed": false
   }
  },
  {
   "cell_type": "code",
   "execution_count": 94,
   "outputs": [],
   "source": [
    "load_figure_template(\"darkly\")\n",
    "\n",
    "top_borrowers_df = pd.DataFrame({\"Addresses\": [\"1\", \"2\", \"3\"], \"Amount\": [10, 20, 30]})\n",
    "top_borrowers_fig = px.bar(top_borrowers_df, x=\"Addresses\", y=\"Amount\")\n",
    "top_borrowers_fig.update_traces(marker_color=\"#b6509e\")\n",
    "\n",
    "top_liquidators_df = pd.DataFrame({\"Addresses\": [\"1\", \"2\", \"3\"], \"Amount\": [10, 20, 30]})\n",
    "top_liquidators_fig = px.bar(top_borrowers_df, x=\"Addresses\", y=\"Amount\")\n",
    "top_liquidators_fig.update_traces(marker_color=\"#b6509e\")\n",
    "\n",
    "top_assets_df = pd.DataFrame({\"Asset\": [\"BTC\", \"ETH\", \"DAI\"], \"Amount\": [10, 20, 70]})\n",
    "top_assets_fig = px.pie(top_assets_df, values='Amount', names='Asset')"
   ],
   "metadata": {
    "collapsed": false
   }
  },
  {
   "cell_type": "code",
   "execution_count": 91,
   "outputs": [],
   "source": [
    "load_figure_template(\"darkly\")\n",
    "\n",
    "app = Dash(external_stylesheets=[dbc.themes.DARKLY])\n",
    "app.layout = html.Div(children=[\n",
    "    html.H1(children='GHOstbusters'),\n",
    "\n",
    "    html.H5(children='''\n",
    "        A web dashboard to bust your GHOsts\n",
    "    '''),\n",
    "\n",
    "    dbc.Row(\n",
    "        [\n",
    "            dpc.\n",
    "        ]\n",
    "    )\n",
    "\n",
    "    dbc.Row(\n",
    "        [\n",
    "            dbc.Col(dcc.Graph(id='Top Borrowers', figure=top_borrowers_fig, style={\"margin\": \"4rem 2rem\"}), md=6, align=\"center\"),\n",
    "            dbc.Col(dcc.Graph(id='Top Liquidators', figure=top_liquidators_fig, style={\"margin\": \"4rem 2rem\"}), md=6, align=\"center\")\n",
    "        ], justify=\"center\")\n",
    "])"
   ],
   "metadata": {
    "collapsed": false
   }
  },
  {
   "cell_type": "code",
   "execution_count": 92,
   "outputs": [
    {
     "name": "stdout",
     "output_type": "stream",
     "text": [
      "Dash is running on http://127.0.0.1:8049/\n",
      "\n",
      "Dash is running on http://127.0.0.1:8049/\n",
      "\n",
      "Dash is running on http://127.0.0.1:8049/\n",
      "\n",
      "Dash is running on http://127.0.0.1:8049/\n",
      "\n",
      "Dash is running on http://127.0.0.1:8049/\n",
      "\n",
      "Dash is running on http://127.0.0.1:8049/\n",
      "\n",
      "Dash is running on http://127.0.0.1:8049/\n",
      "\n",
      "Dash is running on http://127.0.0.1:8049/\n",
      "\n",
      "Dash is running on http://127.0.0.1:8049/\n",
      "\n",
      "Dash is running on http://127.0.0.1:8049/\n",
      "\n",
      "Dash is running on http://127.0.0.1:8049/\n",
      "\n",
      "Dash is running on http://127.0.0.1:8049/\n",
      "\n",
      "Dash is running on http://127.0.0.1:8049/\n",
      "\n",
      "Dash is running on http://127.0.0.1:8049/\n",
      "\n",
      "Dash is running on http://127.0.0.1:8049/\n",
      "\n",
      "Dash is running on http://127.0.0.1:8049/\n",
      "\n",
      "Dash is running on http://127.0.0.1:8049/\n",
      "\n",
      "Dash is running on http://127.0.0.1:8049/\n",
      "\n",
      "Dash is running on http://127.0.0.1:8049/\n",
      "\n",
      "Dash is running on http://127.0.0.1:8049/\n",
      "\n",
      "Dash is running on http://127.0.0.1:8049/\n",
      "\n",
      "Dash is running on http://127.0.0.1:8049/\n",
      "\n",
      "Dash is running on http://127.0.0.1:8049/\n",
      "\n",
      "Dash is running on http://127.0.0.1:8049/\n",
      "\n",
      "Dash is running on http://127.0.0.1:8049/\n",
      "\n",
      "Dash is running on http://127.0.0.1:8049/\n",
      "\n",
      "Dash is running on http://127.0.0.1:8049/\n",
      "\n",
      "Dash is running on http://127.0.0.1:8049/\n",
      "\n",
      "Dash is running on http://127.0.0.1:8049/\n",
      "\n",
      "Dash is running on http://127.0.0.1:8049/\n",
      "\n",
      "Dash is running on http://127.0.0.1:8049/\n",
      "\n",
      "Dash is running on http://127.0.0.1:8049/\n",
      "\n",
      "Dash is running on http://127.0.0.1:8049/\n",
      "\n",
      "Dash is running on http://127.0.0.1:8049/\n",
      "\n",
      " * Serving Flask app '__main__'\n",
      " * Debug mode: on\n"
     ]
    }
   ],
   "source": [
    "app.run_server(debug=True, port=8049, use_reloader=False)"
   ],
   "metadata": {
    "collapsed": false
   }
  },
  {
   "cell_type": "code",
   "execution_count": null,
   "outputs": [],
   "source": [],
   "metadata": {
    "collapsed": false
   }
  }
 ],
 "metadata": {
  "kernelspec": {
   "display_name": "Python 3",
   "language": "python",
   "name": "python3"
  },
  "language_info": {
   "codemirror_mode": {
    "name": "ipython",
    "version": 2
   },
   "file_extension": ".py",
   "mimetype": "text/x-python",
   "name": "python",
   "nbconvert_exporter": "python",
   "pygments_lexer": "ipython2",
   "version": "2.7.6"
  }
 },
 "nbformat": 4,
 "nbformat_minor": 0
}
